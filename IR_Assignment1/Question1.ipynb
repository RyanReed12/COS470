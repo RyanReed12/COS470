{
  "nbformat": 4,
  "nbformat_minor": 0,
  "metadata": {
    "colab": {
      "provenance": [],
      "collapsed_sections": []
    },
    "kernelspec": {
      "name": "python3",
      "display_name": "Python 3"
    },
    "language_info": {
      "name": "python"
    }
  },
  "cells": [
    {
      "cell_type": "markdown",
      "source": [
        "**Assignment 1 - Question 1 (Five Exercises)**\n",
        "\n",
        "**Ryan Reed**\n",
        "\n",
        "**COS 470**\n",
        " \n",
        "**Note :** All exercises are within this notebook file. All are done & appear correct. Coded in colab, so required text, csv, and tsv documents had been uploaded to colab session storage.\n",
        "\n",
        "**Additional Note:** I looked at the code uploaded to brightspace only after finishing these with my own correct solutions, for problem-solving experience."
      ],
      "metadata": {
        "id": "jbfaHpZXcdFv"
      }
    },
    {
      "cell_type": "markdown",
      "source": [
        "#Exercise 1"
      ],
      "metadata": {
        "id": "NVvkTYJ2i7oE"
      }
    },
    {
      "cell_type": "markdown",
      "source": [
        "1. Print odd numbers in range 0 to 100\n",
        "2. Write a function that returns summation of even numbers in a range(start, end) and both start and end are included in the summation.\n",
        "3. Define an empty list\n",
        "  *   Add 10 random integer numbers in range [1,100] to the list\n",
        "  *   Print the maximum number in the list\n",
        "  *   Print the minimum number in the list\n",
        "  *   Sort the list\n",
        "  *   Randomly shuffle the list\n",
        "  *   try running the sort part of code with \"Run the focused cell\"\n",
        "4. Define a dictionary as: {'a':1, 'd':4, 'b':2, 'c':3}\n",
        "  *   Sort the dictionary by keys\n",
        "  *   Sort the dictionary by values in descending order\n",
        "  *   Add new tuple to the dictionary {'e':5}\n",
        "\n",
        "\n",
        "\n",
        "\n",
        "\n",
        "\n",
        "\n",
        "\n",
        "\n",
        "\n",
        "\n",
        "\n",
        "\n"
      ],
      "metadata": {
        "id": "duDPQIb4jFbP"
      }
    },
    {
      "cell_type": "code",
      "source": [
        "# 1\n",
        "only_odd_in_range = [x for x in range(0,100) if x % 2 == 1]\n",
        "print(only_odd_in_range)"
      ],
      "metadata": {
        "colab": {
          "base_uri": "https://localhost:8080/"
        },
        "id": "ZMDHBQYTjB6w",
        "outputId": "71dca825-95be-4948-ef95-b4e590930557"
      },
      "execution_count": 1,
      "outputs": [
        {
          "output_type": "stream",
          "name": "stdout",
          "text": [
            "[1, 3, 5, 7, 9, 11, 13, 15, 17, 19, 21, 23, 25, 27, 29, 31, 33, 35, 37, 39, 41, 43, 45, 47, 49, 51, 53, 55, 57, 59, 61, 63, 65, 67, 69, 71, 73, 75, 77, 79, 81, 83, 85, 87, 89, 91, 93, 95, 97, 99]\n"
          ]
        }
      ]
    },
    {
      "cell_type": "code",
      "source": [
        "# 2\n",
        "def even_summation_inclusive(start, end):\n",
        "  only_even = [x for x in range(start - 1, end + 1) if x % 2 == 0]\n",
        "  sum_of_even = sum(only_even)\n",
        "  return sum_of_even\n",
        "\n",
        "print(even_summation_inclusive(0, 10))"
      ],
      "metadata": {
        "colab": {
          "base_uri": "https://localhost:8080/"
        },
        "id": "CSPySQ55oFFc",
        "outputId": "5732fccf-8c09-4da5-e0b9-9b6235fc9eff"
      },
      "execution_count": 2,
      "outputs": [
        {
          "output_type": "stream",
          "name": "stdout",
          "text": [
            "30\n"
          ]
        }
      ]
    },
    {
      "cell_type": "code",
      "source": [
        "# 3\n",
        "import random\n",
        "\n",
        "list = []\n",
        "list = random.sample(range(1, 100), 10)\n",
        "\n",
        "print(\"The max value in the list is:\", max(list))\n",
        "print(\"The min value in the list is:\", min(list))\n",
        "\n",
        "print(\"List before sort:\", list)\n",
        "list.sort()\n",
        "print(\"List after sort:\", list)\n",
        "random.shuffle(list)\n",
        "print(\"List after a shuffle:\", list)"
      ],
      "metadata": {
        "colab": {
          "base_uri": "https://localhost:8080/"
        },
        "id": "xg50G5YopAFe",
        "outputId": "99fe9b2d-0f0a-49ab-9279-ac8bfb9f0570"
      },
      "execution_count": 3,
      "outputs": [
        {
          "output_type": "stream",
          "name": "stdout",
          "text": [
            "The max value in the list is: 96\n",
            "The min value in the list is: 3\n",
            "List before sort: [68, 51, 3, 26, 63, 96, 32, 8, 44, 61]\n",
            "List after sort: [3, 8, 26, 32, 44, 51, 61, 63, 68, 96]\n",
            "List after a shuffle: [26, 3, 68, 32, 96, 44, 61, 51, 8, 63]\n"
          ]
        }
      ]
    },
    {
      "cell_type": "code",
      "source": [
        "# 3 (Continued)\n",
        "list.sort()\n",
        "print(\"List after a sort ran as focused cell:\", list)"
      ],
      "metadata": {
        "colab": {
          "base_uri": "https://localhost:8080/"
        },
        "id": "pxbLcGw_qcYd",
        "outputId": "52fe9f0f-846a-4350-f0de-29dd0c090dcd"
      },
      "execution_count": 4,
      "outputs": [
        {
          "output_type": "stream",
          "name": "stdout",
          "text": [
            "List after a sort ran as focused cell: [3, 8, 26, 32, 44, 51, 61, 63, 68, 96]\n"
          ]
        }
      ]
    },
    {
      "cell_type": "code",
      "source": [
        "# 4\n",
        "# used different values in the dict, having them be (1, 2, 3, 4) seems a bit confusing in terms of\n",
        "# sorting them, as they already are by value.\n",
        "val_dict = {'a':6, 'd':10, 'b':5, 'c':1}\n",
        "dictSortKeys = dict(sorted(val_dict.items()))\n",
        "print(\"Dictionary sorted by Keys :\", dictSortKeys)\n",
        "\n",
        "dictSortValuesReverse = dict(sorted(val_dict.items(), key=lambda x:x[1], reverse=True))\n",
        "print(\"Dictionary sorted by Value (Reversed) :\", dictSortValuesReverse)\n",
        "\n",
        "tupleToAdd = ('e', 5)\n",
        "\n",
        "val_dict.update({tupleToAdd[0]: tupleToAdd[1]})\n",
        "print(\"Dictionary after adding tuple ('e', 5) :\", val_dict)\n",
        "\n"
      ],
      "metadata": {
        "colab": {
          "base_uri": "https://localhost:8080/"
        },
        "id": "mrfp8HPpVneW",
        "outputId": "80e66adf-1815-4d7d-93dd-9473dab12911"
      },
      "execution_count": 5,
      "outputs": [
        {
          "output_type": "stream",
          "name": "stdout",
          "text": [
            "Dictionary sorted by Keys : {'a': 6, 'b': 5, 'c': 1, 'd': 10}\n",
            "Dictionary sorted by Value (Reversed) : {'d': 10, 'a': 6, 'b': 5, 'c': 1}\n",
            "Dictionary after adding tuple ('e', 5) : {'a': 6, 'd': 10, 'b': 5, 'c': 1, 'e': 5}\n"
          ]
        }
      ]
    },
    {
      "cell_type": "markdown",
      "source": [
        "#Exercise 2"
      ],
      "metadata": {
        "id": "JsLFNDkskVJO"
      }
    },
    {
      "cell_type": "markdown",
      "source": [
        "Go to TF-IDF wikipedia page and copy the first 3-Sentences (above motivation)\n",
        "\n",
        "Test turning the debug mode on and off with command: !pdb on and !pdb off\n",
        "\n",
        "\n",
        "  1.   Define a string with this paragraph as the value\n",
        "  2.   Write a program that prints the number of total words and the number of total unique words in this paragraph\n",
        "  3. Which word has the most frequency? (write a program for this)\n",
        "  4. Read the TFIDG.txt file as the string and test if you will get the same results\n",
        "  5. Use NLTK library and remove the stop-words. What is the most frequent word now?\n",
        "  \n",
        "\n"
      ],
      "metadata": {
        "id": "GZXIL9p4kZI7"
      }
    },
    {
      "cell_type": "code",
      "source": [
        "%pdb on"
      ],
      "metadata": {
        "colab": {
          "base_uri": "https://localhost:8080/"
        },
        "id": "CJ47_0FGryMt",
        "outputId": "7b274841-5e74-4379-e62a-8a1340040896"
      },
      "execution_count": 7,
      "outputs": [
        {
          "output_type": "stream",
          "name": "stdout",
          "text": [
            "Automatic pdb calling has been turned ON\n"
          ]
        }
      ]
    },
    {
      "cell_type": "code",
      "source": [
        "%pdb off"
      ],
      "metadata": {
        "colab": {
          "base_uri": "https://localhost:8080/"
        },
        "id": "8MG_HoLRr3AE",
        "outputId": "883f90b7-163d-47dc-ed79-cc934311c460"
      },
      "execution_count": 8,
      "outputs": [
        {
          "output_type": "stream",
          "name": "stdout",
          "text": [
            "Automatic pdb calling has been turned OFF\n"
          ]
        }
      ]
    },
    {
      "cell_type": "code",
      "source": [
        "#imports\n",
        "import re\n",
        "from collections import defaultdict\n",
        "from google.colab import files\n",
        "import io\n",
        "import nltk\n",
        "nltk.download('stopwords')\n",
        "from nltk.corpus import stopwords\n",
        "\n",
        "paragraph = \"In information retrieval, tf–idf (also TF*IDF, TFIDF, TF–IDF, or Tf–idf), short for term frequency–inverse document frequency, is a numerical statistic that is intended to reflect how important a word is to a document in a collection or corpus. It is often used as a weighting factor in searches of information retrieval, text mining, and user modeling. The tf–idf value increases proportionally to the number of times a word appears in the document and is offset by the number of documents in the corpus that contain the word, which helps to adjust for the fact that some words appear more frequently in general.\"\n",
        "\n",
        "#function to clean the string and return a list of words\n",
        "def string_cleaner(string):\n",
        "  clean_words = re.sub(r\"[(,.;@#?*!&$)]+\\ *\", \" \", string.lower())\n",
        "  split_words = re.split(\" \",clean_words)\n",
        "  #remove empty strings\n",
        "  while(\"\" in split_words) :\n",
        "    split_words.remove(\"\")\n",
        "  \n",
        "  #list of split words is now clean information, not raw data\n",
        "  return split_words\n",
        "\n",
        "\n",
        "def num_words_num_unique_words(list_words):\n",
        "  print(\"The total number of words: \", len(list_words))\n",
        "  set_of_words = set(list_words)\n",
        "  print(\"The total number of unique words: \", len(set_of_words))\n",
        "\n",
        "cleaned_data = string_cleaner(paragraph)\n",
        "\n",
        "num_words_num_unique_words(cleaned_data)"
      ],
      "metadata": {
        "colab": {
          "base_uri": "https://localhost:8080/"
        },
        "id": "gqDo7rfGr5dl",
        "outputId": "9a7bca2e-e760-4d96-8a85-034dbdc6014c"
      },
      "execution_count": 9,
      "outputs": [
        {
          "output_type": "stream",
          "name": "stdout",
          "text": [
            "The total number of words:  103\n",
            "The total number of unique words:  62\n"
          ]
        },
        {
          "output_type": "stream",
          "name": "stderr",
          "text": [
            "[nltk_data] Downloading package stopwords to /root/nltk_data...\n",
            "[nltk_data]   Unzipping corpora/stopwords.zip.\n"
          ]
        }
      ]
    },
    {
      "cell_type": "code",
      "source": [
        "def most_frequent_word(list_words):\n",
        "  word_dict = defaultdict(int)\n",
        "  for word in list_words:\n",
        "    word_dict[word] += 1\n",
        "  print(\"The most frequent word is :\",max(word_dict, key = word_dict.get,))\n",
        "\n",
        "most_frequent_word(cleaned_data)"
      ],
      "metadata": {
        "colab": {
          "base_uri": "https://localhost:8080/"
        },
        "id": "q2KObjnZ1BFc",
        "outputId": "204746ec-3f82-4bb2-ac66-c9972d6f2489"
      },
      "execution_count": 10,
      "outputs": [
        {
          "output_type": "stream",
          "name": "stdout",
          "text": [
            "The most frequent word is : the\n"
          ]
        }
      ]
    },
    {
      "cell_type": "code",
      "source": [
        "#using text file\n",
        "file_path = 'TFIDF.txt'\n",
        "with open(file_path, 'r') as text_file:\n",
        "  input_text = text_file.read()\n",
        "\n",
        "cleaned_text_data = string_cleaner(input_text)\n",
        "\n",
        "num_words_num_unique_words(cleaned_text_data)\n",
        "most_frequent_word(cleaned_text_data)"
      ],
      "metadata": {
        "colab": {
          "base_uri": "https://localhost:8080/"
        },
        "id": "Bhk6lK1t2lSt",
        "outputId": "7ab0bb6c-800d-49e5-fe36-c19bb9cb1af3"
      },
      "execution_count": 11,
      "outputs": [
        {
          "output_type": "stream",
          "name": "stdout",
          "text": [
            "The total number of words:  103\n",
            "The total number of unique words:  62\n",
            "The most frequent word is : the\n"
          ]
        }
      ]
    },
    {
      "cell_type": "code",
      "source": [
        "#filtering out stop words\n",
        "stop_words = set(stopwords.words('english'))\n",
        "\n",
        "filtered_text_data = [word for word in cleaned_text_data if word not in stop_words]\n",
        "most_frequent_word(filtered_text_data)"
      ],
      "metadata": {
        "id": "7aNuHjYo3jqY",
        "colab": {
          "base_uri": "https://localhost:8080/"
        },
        "outputId": "f8c63dbb-e71e-4198-f2b8-bbb040419c2b"
      },
      "execution_count": 12,
      "outputs": [
        {
          "output_type": "stream",
          "name": "stdout",
          "text": [
            "The most frequent word is : tf–idf\n"
          ]
        }
      ]
    },
    {
      "cell_type": "markdown",
      "source": [
        "#Exercise 3"
      ],
      "metadata": {
        "id": "0LX_6vyTk7xv"
      }
    },
    {
      "cell_type": "markdown",
      "source": [
        "Target file: quotes.tsv (tab-seperated values)\n",
        "\n",
        "Read the TSV file with pandas library. Install the library with command: ! pip install pandas\n",
        "\n",
        "Answer the following questions\n",
        "\n",
        "\n",
        "  1.   How many quotes are from 'Alexandre Dumas'\n",
        "  2.   Who has the longest quote? (number of words)\n",
        "  3.   In whose quote there is the word 'one'? Name the author(s)\n",
        "  4.   What are the most and least frequent words used in all the quotes?\n",
        "\n"
      ],
      "metadata": {
        "id": "NQzjfS0_k_Yg"
      }
    },
    {
      "cell_type": "code",
      "source": [
        "!pip install pandas"
      ],
      "metadata": {
        "colab": {
          "base_uri": "https://localhost:8080/"
        },
        "id": "w7shHgphkezN",
        "outputId": "2708a4a5-b752-40f1-d8cd-e3116d76c90f"
      },
      "execution_count": 12,
      "outputs": [
        {
          "output_type": "stream",
          "name": "stdout",
          "text": [
            "Looking in indexes: https://pypi.org/simple, https://us-python.pkg.dev/colab-wheels/public/simple/\n",
            "Requirement already satisfied: pandas in /usr/local/lib/python3.7/dist-packages (1.3.5)\n",
            "Requirement already satisfied: numpy>=1.17.3 in /usr/local/lib/python3.7/dist-packages (from pandas) (1.21.6)\n",
            "Requirement already satisfied: pytz>=2017.3 in /usr/local/lib/python3.7/dist-packages (from pandas) (2022.2.1)\n",
            "Requirement already satisfied: python-dateutil>=2.7.3 in /usr/local/lib/python3.7/dist-packages (from pandas) (2.8.2)\n",
            "Requirement already satisfied: six>=1.5 in /usr/local/lib/python3.7/dist-packages (from python-dateutil>=2.7.3->pandas) (1.15.0)\n"
          ]
        }
      ]
    },
    {
      "cell_type": "code",
      "source": [
        "# 1 \n",
        "import pandas as pd\n",
        "\n",
        "file_path = \"quotes.tsv\"\n",
        "with open(file_path, 'r') as quotes_file:\n",
        "  quotes_dataframe = pd.read_csv(quotes_file, sep='\\t')\n",
        "print(\"There is a approximately %d quotes from Alexandre Dumas\" %(quotes_dataframe['Author'].value_counts()['Alexandre Dumas']))"
      ],
      "metadata": {
        "colab": {
          "base_uri": "https://localhost:8080/"
        },
        "id": "960Nz4LhkiPC",
        "outputId": "47ba15da-b500-4960-bc30-5cf49e43cc66"
      },
      "execution_count": 13,
      "outputs": [
        {
          "output_type": "stream",
          "name": "stdout",
          "text": [
            "There is a approximately 10 quotes from Alexandre Dumas\n"
          ]
        }
      ]
    },
    {
      "cell_type": "code",
      "source": [
        "# 2\n",
        "import numpy as np\n",
        "\n",
        "max_length_quote_id = quotes_dataframe[\"Quote\"].str.len().idxmax()\n",
        "print(\"---Longest Quote---\\nAuthor : \", quotes_dataframe[\"Author\"][max_length_quote_id], \"\\nWord Count :\",\n",
        "      len(quotes_dataframe[\"Quote\"][max_length_quote_id]), \"\\nQuote :\", quotes_dataframe[\"Quote\"][max_length_quote_id])"
      ],
      "metadata": {
        "id": "uJIZQRTnA2rs",
        "colab": {
          "base_uri": "https://localhost:8080/"
        },
        "outputId": "5674ae2a-0e69-47c8-dcf4-f32af21ca8a5"
      },
      "execution_count": 14,
      "outputs": [
        {
          "output_type": "stream",
          "name": "stdout",
          "text": [
            "---Longest Quote---\n",
            "Author :  Arthur Conan Doyle \n",
            "Word Count : 550 \n",
            "Quote : To Sherlock Holmes she is always the woman. I have seldom heard him mention her under any other name. In his eyes she eclipses and predominates the whole of her sex. It was not that he felt any emotion akin to love for Irene Adler. All emotions, and that one particularly, were abhorrent to his cold, precise but admirably balanced mind. He was, I take it, the most perfect reasoning and observing machine that the world has seen.... And yet there was but one woman to him, and that woman was the late Irene Adler, of dubious and questionable memory.\n"
          ]
        }
      ]
    },
    {
      "cell_type": "code",
      "source": [
        "# 3\n",
        "quotes_dataframe['containsOne'] = [1 if 'one' in s.lower() else 0 for s in quotes_dataframe['Quote']]\n",
        "contains_one_authors = set()\n",
        "for index, row in quotes_dataframe.iterrows(): \n",
        "  if (row['containsOne'] == 1):\n",
        "    contains_one_authors.add(row['Author'])\n",
        "\n",
        "print(\"Authors whose quotes include the word 'one' :\")\n",
        "for author in contains_one_authors:\n",
        "  print(author)"
      ],
      "metadata": {
        "colab": {
          "base_uri": "https://localhost:8080/"
        },
        "id": "A7_7ietcKwxB",
        "outputId": "604a2414-4153-462f-ac50-3361bb731c65"
      },
      "execution_count": 15,
      "outputs": [
        {
          "output_type": "stream",
          "name": "stdout",
          "text": [
            "Authors whose quotes include the word 'one' :\n",
            "Agatha Christie\n",
            "Alexandre Dumas\n",
            "Arthur Conan Doyle\n",
            "Anton Chekhov\n"
          ]
        }
      ]
    },
    {
      "cell_type": "code",
      "source": [
        "# 4\n",
        "union_of_quotes = \"\"\n",
        "quotes_word_dict = {}\n",
        "\n",
        "for index, row in quotes_dataframe.iterrows():\n",
        "  union_of_quotes += row['Quote']\n",
        "# string_cleaner function made in exercise 2, I thought it would be a smart move to reuse it for my exercise 3 solution.\n",
        "union_of_quotes = string_cleaner(union_of_quotes)\n",
        "# stop word exclusion, they're a mess for determining frequency of important words\n",
        "union_of_quotes = [word for word in union_of_quotes if word not in stop_words]\n",
        "\n",
        "for word in union_of_quotes:\n",
        "  if word not in quotes_word_dict:\n",
        "    quotes_word_dict[word] = 0\n",
        "  quotes_word_dict[word] += 1\n",
        "\n",
        "print(\"The five MOST frequently occuring words :\")\n",
        "five_most_freq = sorted(quotes_word_dict.items(), key = lambda x: x[1], reverse=True) [:5]\n",
        "for value in five_most_freq:\n",
        "  print(value)\n",
        "\n",
        "print(\"\\nThe five LEAST frequently occuring words :\")\n",
        "five_least_freq =sorted(quotes_word_dict.items(), key = lambda x: x[1], reverse=False) [:5]\n",
        "for value in five_least_freq:\n",
        "  print(value)"
      ],
      "metadata": {
        "id": "9CvM9AVxEacv",
        "colab": {
          "base_uri": "https://localhost:8080/"
        },
        "outputId": "5430274c-e508-40fd-c0a0-d35e1e332f2f"
      },
      "execution_count": 16,
      "outputs": [
        {
          "output_type": "stream",
          "name": "stdout",
          "text": [
            "The five MOST frequently occuring words :\n",
            "('one', 11)\n",
            "('always', 10)\n",
            "('like', 7)\n",
            "('must', 7)\n",
            "('life', 6)\n",
            "\n",
            "The five LEAST frequently occuring words :\n",
            "('sometimes', 1)\n",
            "('wildly', 1)\n",
            "('despairingly', 1)\n",
            "('acutely', 1)\n",
            "('miserable', 1)\n"
          ]
        }
      ]
    },
    {
      "cell_type": "markdown",
      "source": [
        "#Exercise 4"
      ],
      "metadata": {
        "id": "GQwY6DErlcMm"
      }
    },
    {
      "cell_type": "markdown",
      "source": [
        "Target file: 'Posts_Coffee.xml' (Snapshot of https://coffee.stackexchange.com/)\n",
        "\n",
        "Use the code 'post_reader.py' from here:\n",
        "https://github.com/ARQMath/ARQMathCode/blob/master/Entity_Parser_Record/post_parser_record.py\n",
        "\n",
        "Answer the following questions:\n",
        "   \n",
        "\n",
        "1.   How many questions/answers have been posted on this website?\n",
        "2.   How many questions, have accepted answers?\n",
        "3.   What is the highest/lowest score given to the questions?\n",
        "4.   What is the average number of words in answers?\n",
        "5.   In which year, the highest number of posts (questions/answers) were posted?\n",
        "\n",
        "\n"
      ],
      "metadata": {
        "id": "pMLH3RfBldvj"
      }
    },
    {
      "cell_type": "code",
      "source": [
        "from post_parser_record import PostParserRecord\n",
        "post_reader = PostParserRecord(\"Posts_Coffee.xml\")\n",
        "\n",
        "#1\n",
        "number_questions = len(post_reader.map_questions.keys())\n",
        "number_answers = len(post_reader.map_just_answers.keys())\n",
        "\n",
        "print(\"The number of questions is: \" +str(number_questions))\n",
        "print(\"The number of answers is: \" +str(number_answers))"
      ],
      "metadata": {
        "id": "9a4lfm5cCtGR",
        "colab": {
          "base_uri": "https://localhost:8080/"
        },
        "outputId": "899b3519-7ba9-44e3-f621-b4efd5c34ead"
      },
      "execution_count": 3,
      "outputs": [
        {
          "output_type": "stream",
          "name": "stdout",
          "text": [
            "The number of questions is: 1370\n",
            "The number of answers is: 2702\n"
          ]
        }
      ]
    },
    {
      "cell_type": "code",
      "source": [
        "#2\n",
        "num_questions_accepted_answers = (num_questions_accepted_answers + 1 for v in post_reader.map_questions\n",
        "                                   if v(accepted_answer_id) != 0)\n",
        "num_questions_accepted_answers = 0\n",
        "for question in post_reader.map_questions:\n",
        "  if (post_reader.map_questions[question].accepted_answer_id != None):\n",
        "    num_questions_accepted_answers += 1;\n",
        "print(\"The number of questions with accepted answers: \", num_questions_accepted_answers)"
      ],
      "metadata": {
        "id": "fA835FjBFuMs",
        "colab": {
          "base_uri": "https://localhost:8080/"
        },
        "outputId": "118dc187-e846-4baa-b49e-e90d9c24fb30"
      },
      "execution_count": 4,
      "outputs": [
        {
          "output_type": "stream",
          "name": "stdout",
          "text": [
            "The number of questions with accepted answers:  651\n"
          ]
        }
      ]
    },
    {
      "cell_type": "code",
      "source": [
        "#3\n",
        "highestScore = 0\n",
        "lowestScore = 0\n",
        "\n",
        "for question in post_reader.map_questions:\n",
        "  if (post_reader.map_questions[question].score > highestScore):\n",
        "    highestScore = post_reader.map_questions[question].score\n",
        "  elif (post_reader.map_questions[question].score < lowestScore):\n",
        "    lowestScore = post_reader.map_questions[question].score\n",
        "print(\"The highest question score is :\", highestScore)\n",
        "print(\"\\nThe lowest question score is :\", lowestScore)\n"
      ],
      "metadata": {
        "id": "vvqAjlzvHPql",
        "colab": {
          "base_uri": "https://localhost:8080/"
        },
        "outputId": "c6492b76-e18d-4aec-a48e-743c0b207257"
      },
      "execution_count": 5,
      "outputs": [
        {
          "output_type": "stream",
          "name": "stdout",
          "text": [
            "The highest question score is : 66\n",
            "\n",
            "The lowest question score is : -3\n"
          ]
        }
      ]
    },
    {
      "cell_type": "code",
      "source": [
        "#4\n",
        "answers_body_raw_data = \"\"\n",
        "\n",
        "for answer in post_reader.map_just_answers:\n",
        "  answers_body_raw_data += post_reader.map_just_answers[answer].body\n",
        "# filters out xml tags\n",
        "answers_body_raw_data =  re.sub('<[^<]+>', \"\",  answers_body_raw_data)\n",
        "\n",
        "# filters out punctuation\n",
        "answers_body_data = string_cleaner(answers_body_raw_data)\n",
        "\n",
        "print(\"The total number of words across all answers is :\",\n",
        "      len(answers_body_data))\n",
        "print(\"\\nThe total number of answers is :\", len(post_reader.map_just_answers.keys()))\n",
        "print(\"\\nThus the average word count per answer is :\", len(answers_body_data) / len(post_reader.map_just_answers.keys()))\n",
        "\n",
        "# Solution appears correct at ~156 words on average per answer. After manually checking some answers on the site, this seems to be\n",
        "# within a reasonable realistic range."
      ],
      "metadata": {
        "id": "C1GpgeyaHRBL",
        "colab": {
          "base_uri": "https://localhost:8080/"
        },
        "outputId": "cee40ce9-e8e4-41c9-e70b-c024eadebd50"
      },
      "execution_count": 13,
      "outputs": [
        {
          "output_type": "stream",
          "name": "stdout",
          "text": [
            "The total number of words across all answers is : 420789\n",
            "\n",
            "The total number of answers is : 2702\n",
            "\n",
            "Thus the average word count per answer is : 155.73242042931162\n"
          ]
        }
      ]
    },
    {
      "cell_type": "code",
      "source": [
        "#5\n",
        "dict_year = {}\n",
        "for questionIndex in post_reader.map_questions:\n",
        "  currYear = ((post_reader.map_questions[questionIndex].creation_date).split(\"-\"))[0]\n",
        "  if currYear not in dict_year:\n",
        "    dict_year[currYear] = 0\n",
        "  dict_year[currYear] += 1\n",
        "\n",
        "year_with_most_posts = sorted(dict_year.items(), key = lambda x: x[1], reverse=False).pop()\n",
        "print(\"Year with most posts :\", year_with_most_posts[0])\n",
        "print(\"Posts within that year :\", year_with_most_posts[1])\n",
        "\n"
      ],
      "metadata": {
        "id": "NZBKaKbLHRzG",
        "colab": {
          "base_uri": "https://localhost:8080/"
        },
        "outputId": "30e9526e-0de7-4bb3-c9b8-84b9fd00c8bd"
      },
      "execution_count": 26,
      "outputs": [
        {
          "output_type": "stream",
          "name": "stdout",
          "text": [
            "Year with most posts : 2015\n",
            "Posts within that year : 437\n"
          ]
        }
      ]
    },
    {
      "cell_type": "markdown",
      "source": [
        "#Exercise 5"
      ],
      "metadata": {
        "id": "-5s5MEMBmLAs"
      }
    },
    {
      "cell_type": "markdown",
      "source": [
        "Use NumPy and Matplotlib libraries to draw the chart from the previous session\n",
        "\n",
        "IR System 1\n",
        "\n",
        "R 0.00 | 0.00 | 0.00 | 0.25 | 0.50 | 0.50 | 0.50 | 0.75 | 0.75 | 1.00\n",
        "\n",
        "P 0.00 | 0.00 | 0.00 | 0.25 | 0.40 | 0.33 | 0.29 | 0.38 | 0.33 | 0.40\n",
        "\n",
        "\n",
        "---\n",
        "\n",
        "\n",
        "\n",
        "IR System 2\n",
        "\n",
        "R 0.25 | 0.25 | 0.25 | 0.50 | 0.50 | 0.75 | 0.75 | 0.75 | 1.00 | 1.00\n",
        "\n",
        "P 1.00 | 0.50 | 0.33 | 0.50 | 0.40 | 0.50 | 0.43 | 0.38 | 0.44 | 0.40"
      ],
      "metadata": {
        "id": "YGB9h0zbmMYR"
      }
    },
    {
      "cell_type": "code",
      "source": [
        "import matplotlib\n",
        "import matplotlib.pyplot as plt\n",
        "\n",
        "one_x = [0.00 , 0.00 , 0.00 , 0.25 , 0.50 , 0.50 , 0.50 , 0.75 , 0.75 , 1.00]\n",
        "one_y = [0.00 , 0.00 , 0.00 , 0.25 , 0.40 , 0.33 , 0.29 , 0.38 , 0.33 , 0.40]\n",
        "\n",
        "two_x = [0.25 , 0.25 , 0.25 , 0.50 , 0.50 , 0.75 , 0.75 , 0.75 , 1.00 , 1.00]\n",
        "two_y = [1.00 , 0.50 , 0.33 , 0.50 , 0.40 , 0.50 , 0.43 , 0.38 , 0.44 , 0.40]\n",
        "\n",
        "plt.plot(one_x, one_y, label = \"IR System 1\")\n",
        "plt.plot(two_x, two_y, label = \"IR System 2\")\n",
        "\n",
        "plt.ylabel('Precision')\n",
        "plt.xlabel('Recall')\n",
        "plt.legend()\n",
        "plt.show()"
      ],
      "metadata": {
        "colab": {
          "base_uri": "https://localhost:8080/",
          "height": 279
        },
        "id": "nYj-uRPkIzQv",
        "outputId": "32be959d-c57f-4e42-d39c-231e974045e0"
      },
      "execution_count": 37,
      "outputs": [
        {
          "output_type": "display_data",
          "data": {
            "text/plain": [
              "<Figure size 432x288 with 1 Axes>"
            ],
            "image/png": "[encoded data removed]"
          },
          "metadata": {
            "needs_background": "light"
          }
        }
      ]
    }
  ]
}